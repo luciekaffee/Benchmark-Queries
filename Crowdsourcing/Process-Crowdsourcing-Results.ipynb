{
 "cells": [
  {
   "cell_type": "code",
   "execution_count": 2,
   "metadata": {},
   "outputs": [],
   "source": [
    "import pandas as pd\n",
    "import itertools\n",
    "import numpy as np\n",
    "import json"
   ]
  },
  {
   "cell_type": "code",
   "execution_count": 3,
   "metadata": {},
   "outputs": [],
   "source": [
    "df_en = pd.read_csv('crowdsourcing-results-en.csv')"
   ]
  },
  {
   "cell_type": "code",
   "execution_count": 4,
   "metadata": {},
   "outputs": [
    {
     "name": "stdout",
     "output_type": "stream",
     "text": [
      "Index([u'_unit_id', u'_created_at', u'_golden', u'_id', u'_missed',\n",
      "       u'_started_at', u'_tainted', u'_channel', u'_trust', u'_worker_id',\n",
      "       u'_country', u'_region', u'_city', u'_ip',\n",
      "       u'not_sure_about_factual_correctness',\n",
      "       u'select_the_answer_that_answers_the_question_best', u'dbpedia', u'id',\n",
      "       u'linkedmdb', u'musicbrainz',\n",
      "       u'not_sure_about_factual_correctness_gold', u'question',\n",
      "       u'select_the_answer_that_answers_the_question_best_gold', u'wikidata',\n",
      "       u'yago'],\n",
      "      dtype='object')\n"
     ]
    }
   ],
   "source": [
    "print df_en.keys()"
   ]
  },
  {
   "cell_type": "code",
   "execution_count": 5,
   "metadata": {},
   "outputs": [
    {
     "ename": "NameError",
     "evalue": "name 'kg' is not defined",
     "output_type": "error",
     "traceback": [
      "\u001b[0;31m---------------------------------------------------------------------------\u001b[0m",
      "\u001b[0;31mNameError\u001b[0m                                 Traceback (most recent call last)",
      "\u001b[0;32m<ipython-input-5-99c5c2cdcb60>\u001b[0m in \u001b[0;36m<module>\u001b[0;34m()\u001b[0m\n\u001b[1;32m      4\u001b[0m     \u001b[0;31m#if row['id'] != 350 and row['id'] != 88 and row['id'] != 3 and row['id'] != 9 and row['id'] != 172 and row['id'] != 282 and row['id'] != 312 and row['id'] != 389:\u001b[0m\u001b[0;34m\u001b[0m\u001b[0;34m\u001b[0m\u001b[0;34m\u001b[0m\u001b[0m\n\u001b[1;32m      5\u001b[0m     \u001b[0;31m#    ratings.append((row['id'], kg))\u001b[0m\u001b[0;34m\u001b[0m\u001b[0;34m\u001b[0m\u001b[0;34m\u001b[0m\u001b[0m\n\u001b[0;32m----> 6\u001b[0;31m     \u001b[0;32mif\u001b[0m \u001b[0;34m'\\n'\u001b[0m \u001b[0;32min\u001b[0m \u001b[0mkg\u001b[0m\u001b[0;34m:\u001b[0m\u001b[0;34m\u001b[0m\u001b[0;34m\u001b[0m\u001b[0m\n\u001b[0m\u001b[1;32m      7\u001b[0m         \u001b[0mkgs\u001b[0m \u001b[0;34m=\u001b[0m \u001b[0mkg\u001b[0m\u001b[0;34m.\u001b[0m\u001b[0msplit\u001b[0m\u001b[0;34m(\u001b[0m\u001b[0;34m'\\n'\u001b[0m\u001b[0;34m)\u001b[0m\u001b[0;34m\u001b[0m\u001b[0;34m\u001b[0m\u001b[0m\n\u001b[1;32m      8\u001b[0m         \u001b[0;32mfor\u001b[0m \u001b[0mkg\u001b[0m \u001b[0;32min\u001b[0m \u001b[0mkgs\u001b[0m\u001b[0;34m:\u001b[0m\u001b[0;34m\u001b[0m\u001b[0;34m\u001b[0m\u001b[0m\n",
      "\u001b[0;31mNameError\u001b[0m: name 'kg' is not defined"
     ]
    }
   ],
   "source": [
    "data_en = {}\n",
    "ratings = []\n",
    "for index, row in df_en.iterrows():\n",
    "    #if row['id'] != 350 and row['id'] != 88 and row['id'] != 3 and row['id'] != 9 and row['id'] != 172 and row['id'] != 282 and row['id'] != 312 and row['id'] != 389:\n",
    "    #    ratings.append((row['id'], kg))\n",
    "    if '\\n' in kg:\n",
    "        kgs = kg.split('\\n')\n",
    "        for kg in kgs:\n",
    "            if not row['id'] in data_en:\n",
    "                data_en[row['id']] = [kg]\n",
    "            else: \n",
    "                data_en[row['id']].append(kg)\n",
    "        continue\n",
    "    if not row['id'] in data_en:\n",
    "        data_en[row['id']] = [kg]\n",
    "    else: \n",
    "        data_en[row['id']].append(kg)"
   ]
  },
  {
   "cell_type": "code",
   "execution_count": 11,
   "metadata": {},
   "outputs": [
    {
     "name": "stdout",
     "output_type": "stream",
     "text": [
      "wd\n"
     ]
    },
    {
     "data": {
      "text/plain": [
       "0.8341681632653061"
      ]
     },
     "execution_count": 11,
     "metadata": {},
     "output_type": "execute_result"
    }
   ],
   "source": [
    "data_aggr_en = {}\n",
    "df_tmp = pd.read_csv('aggregated-en.csv')\n",
    "for index,row in df_tmp.iterrows():\n",
    "    data_aggr_en[row['id']] = row['select_the_answer_that_answers_the_question_best']\n",
    "\n",
    "print max(set(data_aggr_en.values()), key=data_aggr_en.values().count)\n",
    "\n",
    "json.dump(data_aggr_en, open('crowd-en.json', 'wb'))\n",
    "\n",
    "confidence = []\n",
    "\n",
    "for index, row in df_tmp.iterrows():\n",
    "    confidence.append(float(row['select_the_answer_that_answers_the_question_best:confidence']))\n",
    "np.mean(confidence)"
   ]
  },
  {
   "cell_type": "code",
   "execution_count": 10,
   "metadata": {},
   "outputs": [
    {
     "name": "stdout",
     "output_type": "stream",
     "text": [
      "wd\n"
     ]
    },
    {
     "data": {
      "text/plain": [
       "0.8699033175355451"
      ]
     },
     "execution_count": 10,
     "metadata": {},
     "output_type": "execute_result"
    }
   ],
   "source": [
    "data_aggr_es = {}\n",
    "df_tmp = pd.read_csv('aggregated-es.csv')\n",
    "for index,row in df_tmp.iterrows():\n",
    "    data_aggr_es[row['id']] = row['select_the_answer_that_answers_the_question_best']\n",
    "\n",
    "print max(set(data_aggr_es.values()), key=data_aggr_es.values().count)\n",
    "\n",
    "json.dump(data_aggr_es, open('crowd-es.json', 'wb'))\n",
    "\n",
    "confidence = []\n",
    "\n",
    "for index, row in df_tmp.iterrows():\n",
    "    confidence.append(float(row['select_the_answer_that_answers_the_question_best:confidence']))\n",
    "np.mean(confidence)"
   ]
  },
  {
   "cell_type": "code",
   "execution_count": 9,
   "metadata": {},
   "outputs": [
    {
     "name": "stdout",
     "output_type": "stream",
     "text": [
      "wd\n"
     ]
    },
    {
     "data": {
      "text/plain": [
       "0.8672647058823529"
      ]
     },
     "execution_count": 9,
     "metadata": {},
     "output_type": "execute_result"
    }
   ],
   "source": [
    "data_aggr_hi = {}\n",
    "df_tmp = pd.read_csv('aggregated-hi.csv')\n",
    "for index,row in df_tmp.iterrows():\n",
    "    data_aggr_hi[row['id']] = row['select_the_answer_that_answers_the_question_best']\n",
    "\n",
    "print max(set(data_aggr_hi.values()), key=data_aggr_hi.values().count)\n",
    "\n",
    "json.dump(data_aggr_hi, open('crowd-hi.json', 'wb'))\n",
    "\n",
    "confidence = []\n",
    "\n",
    "for index, row in df_tmp.iterrows():\n",
    "    confidence.append(float(row['select_the_answer_that_answers_the_question_best:confidence']))\n",
    "np.mean(confidence)"
   ]
  },
  {
   "cell_type": "code",
   "execution_count": 106,
   "metadata": {},
   "outputs": [],
   "source": [
    "# From: https://github.com/amirziai/learning/blob/master/statistics/Inter-rater%20agreement%20kappas.ipynb\n",
    "def fleiss_kappa(ratings, n):\n",
    "    '''\n",
    "    Computes the Fleiss' kappa measure for assessing the reliability of \n",
    "    agreement between a fixed number n of raters when assigning categorical\n",
    "    ratings to a number of items.\n",
    "    \n",
    "    Args:\n",
    "        ratings: a list of (item, category)-ratings\n",
    "        n: number of raters\n",
    "        k: number of categories\n",
    "    Returns:\n",
    "        the Fleiss' kappa score\n",
    "    \n",
    "    See also:\n",
    "        http://en.wikipedia.org/wiki/Fleiss'_kappa\n",
    "    '''\n",
    "    items = set()\n",
    "    categories = set()\n",
    "    n_ij = {}\n",
    "    \n",
    "    for i, c in ratings:\n",
    "        items.add(i)\n",
    "        categories.add(c)\n",
    "        n_ij[(i,c)] = n_ij.get((i,c), 0) + 1\n",
    "    \n",
    "    N = len(items)\n",
    "    \n",
    "    p_j = dict(((c, sum(n_ij.get((i, c), 0) for i in items) / (1.0 * n * N)) for c in categories))\n",
    "    P_i = dict(((i, (sum(n_ij.get((i, c), 0) ** 2 for c in categories) - n) / (n * (n - 1.0))) for i in items))\n",
    "\n",
    "    P_bar = sum(P_i.values()) / (1.0 * N)\n",
    "    P_e_bar = sum(value ** 2 for value in p_j.values())\n",
    "    \n",
    "    kappa = (P_bar - P_e_bar) / (1 - P_e_bar)\n",
    "    \n",
    "    return kappa"
   ]
  },
  {
   "cell_type": "code",
   "execution_count": 91,
   "metadata": {},
   "outputs": [
    {
     "name": "stdout",
     "output_type": "stream",
     "text": [
      "[(215, 'wd'), (215, 'wd'), (215, 'wd'), (213, 'wd'), (213, 'wd'), (213, 'wd'), (210, 'wd'), (210, 'wd'), (210, 'wd'), (133, 'wd'), (133, 'wd'), (133, 'wd'), (137, 'wd'), (137, 'wd'), (137, 'wd'), (136, 'wd'), (136, 'wd'), (136, 'wd'), (134, 'wd'), (134, 'wd'), (134, 'wd'), (139, 'wd'), (139, 'wd'), (139, 'wd'), (25, 'wd'), (25, 'wd'), (25, 'wd'), (399, 'wd'), (399, 'wd'), (399, 'wd'), (29, 'wd'), (29, 'wd'), (29, 'wd'), (161, 'wd'), (161, 'wd'), (161, 'wd'), (335, 'wd'), (335, 'wd'), (335, 'wd'), (4, 'wd'), (4, 'wd'), (4, 'wd'), (8, 'wd'), (8, 'wd'), (8, 'wd'), (409, 'wd'), (409, 'wd'), (409, 'wd'), (286, 'wd'), (286, 'wd'), (286, 'wd'), (119, 'wd'), (119, 'wd'), (119, 'wd'), (123, 'wd'), (123, 'wd'), (123, 'wd'), (124, 'wd'), (124, 'wd'), (124, 'wd'), (269, 'wd'), (269, 'wd'), (269, 'wd'), (365, 'wd'), (365, 'wd'), (365, 'wd'), (55, 'wd'), (55, 'wd'), (55, 'wd'), (54, 'wd'), (54, 'wd'), (54, 'wd'), (57, 'wd'), (57, 'wd'), (57, 'wd'), (379, 'wd'), (379, 'wd'), (379, 'wd'), (411, 'wd'), (411, 'wd'), (411, 'wd'), (412, 'wd'), (412, 'wd'), (412, 'wd'), (296, 'wd'), (296, 'wd'), (296, 'wd'), (294, 'wd'), (294, 'wd'), (294, 'wd'), (290, 'wd'), (290, 'wd'), (290, 'wd'), (291, 'wd'), (291, 'wd'), (291, 'wd'), (179, 'wd'), (179, 'wd'), (179, 'wd'), (200, 'wd'), (200, 'wd'), (200, 'wd'), (313, 'wd'), (313, 'wd'), (313, 'wd'), (194, 'wd'), (194, 'wd'), (194, 'wd'), (192, 'wd'), (192, 'wd'), (192, 'wd'), (110, 'wd'), (110, 'wd'), (110, 'wd'), (82, 'wd'), (82, 'wd'), (82, 'wd'), (81, 'wd'), (81, 'wd'), (81, 'wd'), (86, 'wd'), (86, 'wd'), (86, 'wd'), (87, 'wd'), (87, 'wd'), (87, 'wd'), (84, 'wd'), (84, 'wd'), (84, 'wd'), (369, 'wd'), (369, 'wd'), (369, 'wd'), (367, 'wd'), (367, 'wd'), (367, 'wd'), (410, 'wd'), (410, 'wd'), (410, 'wd'), (302, 'wd'), (302, 'wd'), (302, 'wd'), (306, 'wd'), (306, 'wd'), (306, 'wd'), (241, 'wd'), (241, 'wd'), (241, 'wd'), (386, 'wd'), (386, 'wd'), (386, 'wd'), (102, 'wd'), (102, 'wd'), (102, 'wd'), (103, 'wd'), (103, 'wd'), (103, 'wd'), (249, 'wd'), (249, 'wd'), (249, 'wd'), (248, 'wd'), (248, 'wd'), (248, 'wd'), (39, 'wd'), (39, 'wd'), (39, 'wd'), (38, 'wd'), (38, 'wd'), (38, 'wd'), (37, 'wd'), (37, 'wd'), (37, 'wd'), (246, 'wd'), (246, 'wd'), (246, 'wd'), (393, 'wd'), (393, 'wd'), (393, 'wd'), (271, 'wd'), (271, 'wd'), (271, 'wd'), (337, 'wd'), (337, 'wd'), (337, 'wd'), (332, 'wd'), (332, 'wd'), (332, 'wd'), (62, 'wd'), (62, 'wd'), (62, 'wd'), (63, 'wd'), (63, 'wd'), (63, 'wd'), (64, 'wd'), (64, 'wd'), (64, 'wd'), (67, 'wd'), (67, 'wd'), (67, 'wd'), (69, 'wd'), (69, 'wd'), (69, 'wd'), (173, 'wd'), (173, 'wd'), (173, 'wd'), (171, 'wd'), (171, 'wd'), (171, 'wd'), (170, 'wd'), (170, 'wd'), (170, 'wd'), (222, 'wd'), (222, 'wd'), (222, 'wd'), (345, 'wd'), (345, 'wd'), (345, 'wd'), (183, 'wd'), (183, 'wd'), (183, 'wd'), (187, 'wd'), (187, 'wd'), (187, 'wd'), (184, 'wd'), (184, 'wd'), (184, 'wd'), (403, 'wd'), (403, 'wd'), (403, 'wd'), (311, 'wd'), (311, 'wd'), (311, 'wd'), (202, 'wd'), (202, 'wd'), (202, 'wd'), (196, 'wd'), (196, 'wd'), (196, 'wd'), (221, 'wd'), (221, 'wd'), (221, 'wd'), (317, 'wd'), (317, 'wd'), (317, 'wd'), (390, 'wd'), (390, 'wd'), (390, 'wd'), (169, 'wd'), (169, 'wd'), (169, 'wd'), (280, 'wd'), (280, 'wd'), (280, 'wd'), (91, 'wd'), (91, 'wd'), (91, 'wd'), (96, 'wd'), (96, 'wd'), (96, 'wd'), (12, 'wd'), (12, 'wd'), (12, 'wd'), (14, 'wd'), (14, 'wd'), (14, 'wd'), (19, 'wd'), (19, 'wd'), (19, 'wd'), (275, 'wd'), (275, 'wd'), (275, 'wd'), (224, 'wd'), (224, 'wd'), (224, 'wd'), (150, 'wd'), (150, 'wd'), (150, 'wd'), (152, 'wd'), (152, 'wd'), (152, 'wd'), (238, 'wd'), (238, 'wd'), (238, 'wd'), (279, 'wd'), (279, 'wd'), (279, 'wd')]\n"
     ]
    },
    {
     "ename": "ZeroDivisionError",
     "evalue": "float division by zero",
     "output_type": "error",
     "traceback": [
      "\u001b[0;31m---------------------------------------------------------------------------\u001b[0m",
      "\u001b[0;31mZeroDivisionError\u001b[0m                         Traceback (most recent call last)",
      "\u001b[0;32m<ipython-input-91-2337b918fc92>\u001b[0m in \u001b[0;36m<module>\u001b[0;34m()\u001b[0m\n\u001b[1;32m      1\u001b[0m \u001b[0;32mprint\u001b[0m \u001b[0mratings\u001b[0m\u001b[0;34m\u001b[0m\u001b[0m\n\u001b[0;32m----> 2\u001b[0;31m \u001b[0mfleiss_kappa\u001b[0m\u001b[0;34m(\u001b[0m\u001b[0mratings\u001b[0m\u001b[0;34m,\u001b[0m \u001b[0;36m3\u001b[0m\u001b[0;34m)\u001b[0m\u001b[0;34m\u001b[0m\u001b[0m\n\u001b[0m",
      "\u001b[0;32m<ipython-input-88-8d4402529dc4>\u001b[0m in \u001b[0;36mfleiss_kappa\u001b[0;34m(ratings, n)\u001b[0m\n\u001b[1;32m     33\u001b[0m     \u001b[0mP_e_bar\u001b[0m \u001b[0;34m=\u001b[0m \u001b[0msum\u001b[0m\u001b[0;34m(\u001b[0m\u001b[0mvalue\u001b[0m \u001b[0;34m**\u001b[0m \u001b[0;36m2\u001b[0m \u001b[0;32mfor\u001b[0m \u001b[0mvalue\u001b[0m \u001b[0;32min\u001b[0m \u001b[0mp_j\u001b[0m\u001b[0;34m.\u001b[0m\u001b[0mvalues\u001b[0m\u001b[0;34m(\u001b[0m\u001b[0;34m)\u001b[0m\u001b[0;34m)\u001b[0m\u001b[0;34m\u001b[0m\u001b[0m\n\u001b[1;32m     34\u001b[0m \u001b[0;34m\u001b[0m\u001b[0m\n\u001b[0;32m---> 35\u001b[0;31m     \u001b[0mkappa\u001b[0m \u001b[0;34m=\u001b[0m \u001b[0;34m(\u001b[0m\u001b[0mP_bar\u001b[0m \u001b[0;34m-\u001b[0m \u001b[0mP_e_bar\u001b[0m\u001b[0;34m)\u001b[0m \u001b[0;34m/\u001b[0m \u001b[0;34m(\u001b[0m\u001b[0;36m1\u001b[0m \u001b[0;34m-\u001b[0m \u001b[0mP_e_bar\u001b[0m\u001b[0;34m)\u001b[0m\u001b[0;34m\u001b[0m\u001b[0m\n\u001b[0m\u001b[1;32m     36\u001b[0m \u001b[0;34m\u001b[0m\u001b[0m\n\u001b[1;32m     37\u001b[0m     \u001b[0;32mreturn\u001b[0m \u001b[0mkappa\u001b[0m\u001b[0;34m\u001b[0m\u001b[0m\n",
      "\u001b[0;31mZeroDivisionError\u001b[0m: float division by zero"
     ]
    }
   ],
   "source": [
    "print ratings\n",
    "fleiss_kappa(ratings, 3)"
   ]
  },
  {
   "cell_type": "code",
   "execution_count": null,
   "metadata": {},
   "outputs": [],
   "source": []
  }
 ],
 "metadata": {
  "kernelspec": {
   "display_name": "Python 2",
   "language": "python",
   "name": "python2"
  },
  "language_info": {
   "codemirror_mode": {
    "name": "ipython",
    "version": 2
   },
   "file_extension": ".py",
   "mimetype": "text/x-python",
   "name": "python",
   "nbconvert_exporter": "python",
   "pygments_lexer": "ipython2",
   "version": "2.7.15+"
  }
 },
 "nbformat": 4,
 "nbformat_minor": 2
}
